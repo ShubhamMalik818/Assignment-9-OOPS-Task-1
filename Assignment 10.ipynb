{
 "cells": [
  {
   "cell_type": "code",
   "execution_count": null,
   "id": "2cc3e53e-c6a4-48f8-bb8c-5c35c41ac6d6",
   "metadata": {},
   "outputs": [],
   "source": [
    "1. Create a vehicle class with an init method having instance variables as name_of_vehicle, max_speed and average_of_vehicle."
   ]
  },
  {
   "cell_type": "code",
   "execution_count": 1,
   "id": "040d2001-e8d3-4d04-a178-7c140ce57ac6",
   "metadata": {},
   "outputs": [
    {
     "name": "stdout",
     "output_type": "stream",
     "text": [
      "Maruti Brezza\n",
      "160\n",
      "20\n"
     ]
    }
   ],
   "source": [
    "class Vehicle:\n",
    "    def __init__(self,name_of_vehicle,max_speed,average_of_vehicle):\n",
    "        self.name_of_vehicle = name_of_vehicle\n",
    "        self.max_speed = max_speed\n",
    "        self.average_of_vehicle = average_of_vehicle\n",
    "        \n",
    "car = Vehicle('Maruti Brezza',160,20)\n",
    "\n",
    "print(car.name_of_vehicle)\n",
    "print(car.max_speed)\n",
    "print(car.average_of_vehicle)"
   ]
  },
  {
   "cell_type": "code",
   "execution_count": null,
   "id": "5382498e-f3b4-4957-96bc-2d38cf6a2903",
   "metadata": {},
   "outputs": [],
   "source": [
    "2. Create a child class car from the vehicle class created in Que 1, which will inherit the vehicle class.\n",
    "Create a method named seating_capacity which takes capacity as an argument and returns the name of\n",
    "the vehicle and its seating capacity."
   ]
  },
  {
   "cell_type": "code",
   "execution_count": 4,
   "id": "b7ca2455-995f-4c31-98da-fd6fb85a924b",
   "metadata": {},
   "outputs": [
    {
     "name": "stdout",
     "output_type": "stream",
     "text": [
      "Toyota Camry has a seating capacity of 5 passengers.\n"
     ]
    }
   ],
   "source": [
    "# Parent class Vehicle\n",
    "class Vehicle:\n",
    "    def __init__(self, name_of_vehicle, max_speed, average_speed):\n",
    "        self.name_of_vehicle = name_of_vehicle\n",
    "        self.max_speed = max_speed\n",
    "        self.average_speed = average_speed\n",
    "\n",
    "    def vehicle_info(self):\n",
    "        return f\"{self.name_of_vehicle} - Max Speed: {self.max_speed}, Average Speed: {self.average_speed}\"\n",
    "\n",
    "# Child class Car\n",
    "class Car(Vehicle):\n",
    "    def __init__(self, name_of_vehicle, max_speed, average_speed):\n",
    "        super().__init__(name_of_vehicle, max_speed, average_speed)\n",
    "\n",
    "    def seating_capacity(self, capacity):\n",
    "        return f\"{self.name_of_vehicle} has a seating capacity of {capacity} passengers.\"\n",
    "\n",
    "my_car = Car(\"Toyota Camry\", 200, 60)\n",
    "print(my_car.seating_capacity(5))\n",
    "# Output: Toyota Camry has a seating capacity of 5 passengers.\n"
   ]
  },
  {
   "cell_type": "code",
   "execution_count": null,
   "id": "c43fa3cc-275f-4a9d-82f0-4580c22bd1bf",
   "metadata": {},
   "outputs": [],
   "source": []
  },
  {
   "cell_type": "code",
   "execution_count": null,
   "id": "2824625c-10d8-4d7a-b96b-8d85b799e185",
   "metadata": {},
   "outputs": [],
   "source": [
    "3. What is multiple inheritance? Write a python code to demonstrate multiple inheritance."
   ]
  },
  {
   "cell_type": "code",
   "execution_count": null,
   "id": "884f609c-34ac-44bf-9de6-9b62153baec8",
   "metadata": {},
   "outputs": [],
   "source": [
    "ANS- When a class is derived from more than one base class it is called multiple Inheritance. \n",
    "     The derived class inherits all the features of the base case."
   ]
  },
  {
   "cell_type": "code",
   "execution_count": 2,
   "id": "33a0bfc5-ed51-436b-acc4-b95951559df7",
   "metadata": {},
   "outputs": [
    {
     "name": "stdout",
     "output_type": "stream",
     "text": [
      " This is a Benz Car \n",
      " This is a BMW Bike \n",
      " This is a Volvo Bus \n",
      " This is a Eicher Truck \n",
      " This is a Indigo plane \n",
      "This is the Main Class\n"
     ]
    }
   ],
   "source": [
    "# Creating a multiple inheritance using more than two classes.\n",
    "\n",
    "class Car():\n",
    "    def Benz(self):\n",
    "        print(\" This is a Benz Car \")\n",
    "class Bike():\n",
    "    def Bmw(self):\n",
    "        print(\" This is a BMW Bike \")\n",
    "class Bus():\n",
    "    def Volvo(self):\n",
    "        print(\" This is a Volvo Bus \")\n",
    "class Truck():\n",
    "    def Eicher(self):\n",
    "        print(\" This is a Eicher Truck \")\n",
    "class Plane():\n",
    "    def Indigo(self):\n",
    "        print(\" This is a Indigo plane \")\n",
    "class Transport(Car,Bike,Bus,Truck,Plane):\n",
    "    def Main(self):\n",
    "        print(\"This is the Main Class\")\n",
    "B=Transport()\n",
    "B.Benz()\n",
    "B.Bmw()\n",
    "B.Volvo()\n",
    "B.Eicher()\n",
    "B.Indigo()\n",
    "B.Main()\n",
    "\n",
    "\n",
    "'''Here we have four classes named, Car,Bike,Bus,Truck,Plane that are called as the base classes.\n",
    "   We also have one derived class Transport that will be holding all the data of the Car,Bike,Truck,Plane, and Transport.\n",
    "\n",
    "So, that is why we will be creating the object for the derived class, i.e., \n",
    "the Transport through which we can access all the data of the base class and derived class."
   ]
  },
  {
   "cell_type": "code",
   "execution_count": null,
   "id": "b3f0eab2-dd6d-48ff-961a-e2c81a2526f3",
   "metadata": {},
   "outputs": [],
   "source": [
    "4. What are getter and setter in python? Create a class and create a getter and a setter method in this class."
   ]
  },
  {
   "cell_type": "code",
   "execution_count": null,
   "id": "f16d875b-e5dd-46ef-8ae8-3dcb5fa87c0f",
   "metadata": {},
   "outputs": [],
   "source": [
    "ANS- Getter: A method that allows you to access an attribute in a given class\n",
    "     Setter: A method that allows you to set or mutate the value of an attribute in a class"
   ]
  },
  {
   "cell_type": "code",
   "execution_count": 3,
   "id": "63381d90-563d-4051-adfc-014e93f28129",
   "metadata": {},
   "outputs": [],
   "source": [
    "# label.py\n",
    "\n",
    "class Label:\n",
    "    def __init__(self, text, font):\n",
    "        self._text = text\n",
    "        self._font = font\n",
    "\n",
    "    def get_text(self):\n",
    "        return self._text\n",
    "\n",
    "    def set_text(self, value):\n",
    "        self._text = value\n",
    "\n",
    "    def get_font(self):\n",
    "        return self._font\n",
    "\n",
    "    def set_font(self, value):\n",
    "        self._font = value\n",
    "        \n",
    "'''In this example, the constructor of Label takes two arguments, text and font. \n",
    "   These arguments are stored in the ._text and ._font non-public instance attributes, respectively.\n",
    "\n",
    "   Then you define getter and setter methods for both attributes. \n",
    "   Typically, getter methods return the target attribute’s value, while setter methods take a new value and assign it to the underlying attribute.'''        "
   ]
  },
  {
   "cell_type": "code",
   "execution_count": null,
   "id": "fe125da1-4077-4b17-9954-2d10a118689d",
   "metadata": {},
   "outputs": [],
   "source": [
    "5.What is method overriding in python? Write a python code to demonstrate method overriding."
   ]
  },
  {
   "cell_type": "code",
   "execution_count": null,
   "id": "297a1ac1-a2b1-4dd9-8f93-14f728693878",
   "metadata": {},
   "outputs": [],
   "source": [
    "ANS- If subclass (child class) has the same method as declared in the parent class, it is known as method overriding. \n",
    "     In other words, If a subclass provides the specific implementation of the method that has been declared by one of its parent class, \n",
    "     it is known as method overriding."
   ]
  },
  {
   "cell_type": "code",
   "execution_count": null,
   "id": "a801a994-4842-4caf-89e0-eec0dca73ef2",
   "metadata": {},
   "outputs": [],
   "source": [
    "# Python program to demonstrate\n",
    "# method overriding\n",
    "\n",
    "\n",
    "# Defining parent class\n",
    "class Parent():\n",
    "\t\n",
    "\t# Constructor\n",
    "\tdef __init__(self):\n",
    "\t\tself.value = \"Inside Parent\"\n",
    "\t\t\n",
    "\t# Parent's show method\n",
    "\tdef show(self):\n",
    "\t\tprint(self.value)\n",
    "\t\t\n",
    "# Defining child class\n",
    "class Child(Parent):\n",
    "\t\n",
    "\t# Constructor\n",
    "\tdef __init__(self):\n",
    "\t\tself.value = \"Inside Child\"\n",
    "\t\t\n",
    "\t# Child's show method\n",
    "\tdef show(self):\n",
    "\t\tprint(self.value)\n",
    "\t\t\n",
    "\t\t\n",
    "# Driver's code\n",
    "obj1 = Parent()\n",
    "obj2 = Child()\n",
    "\n",
    "obj1.show()\n",
    "obj2.show()\n"
   ]
  }
 ],
 "metadata": {
  "kernelspec": {
   "display_name": "Python 3 (ipykernel)",
   "language": "python",
   "name": "python3"
  },
  "language_info": {
   "codemirror_mode": {
    "name": "ipython",
    "version": 3
   },
   "file_extension": ".py",
   "mimetype": "text/x-python",
   "name": "python",
   "nbconvert_exporter": "python",
   "pygments_lexer": "ipython3",
   "version": "3.10.8"
  }
 },
 "nbformat": 4,
 "nbformat_minor": 5
}
